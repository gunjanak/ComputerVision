{
  "nbformat": 4,
  "nbformat_minor": 0,
  "metadata": {
    "colab": {
      "provenance": []
    },
    "kernelspec": {
      "name": "python3",
      "display_name": "Python 3"
    },
    "language_info": {
      "name": "python"
    }
  },
  "cells": [
    {
      "cell_type": "markdown",
      "source": [
        "**Download the data from kaggle and put it in a folder**"
      ],
      "metadata": {
        "id": "OSj5dXv1GWWn"
      }
    },
    {
      "cell_type": "markdown",
      "source": [
        "#Download"
      ],
      "metadata": {
        "id": "EMr_ANAfGeaJ"
      }
    },
    {
      "cell_type": "code",
      "execution_count": 1,
      "metadata": {
        "colab": {
          "base_uri": "https://localhost:8080/"
        },
        "id": "JQLa5YxK3MpS",
        "outputId": "0ad5eb2f-058c-47c9-e360-5f5027eb7dcc"
      },
      "outputs": [
        {
          "output_type": "stream",
          "name": "stdout",
          "text": [
            "Downloading from https://www.kaggle.com/api/v1/datasets/download/soumikrakshit/lol-dataset?dataset_version_number=1...\n"
          ]
        },
        {
          "output_type": "stream",
          "name": "stderr",
          "text": [
            "100%|██████████| 331M/331M [00:03<00:00, 113MB/s]"
          ]
        },
        {
          "output_type": "stream",
          "name": "stdout",
          "text": [
            "Extracting files...\n"
          ]
        },
        {
          "output_type": "stream",
          "name": "stderr",
          "text": [
            "\n"
          ]
        },
        {
          "output_type": "stream",
          "name": "stdout",
          "text": [
            "Path to dataset files: /root/.cache/kagglehub/datasets/soumikrakshit/lol-dataset/versions/1\n"
          ]
        }
      ],
      "source": [
        "import kagglehub\n",
        "\n",
        "# Download latest version\n",
        "path = kagglehub.dataset_download(\"soumikrakshit/lol-dataset\")\n",
        "\n",
        "print(\"Path to dataset files:\", path)"
      ]
    },
    {
      "cell_type": "markdown",
      "source": [
        "#Move to the necessary folder"
      ],
      "metadata": {
        "id": "sNt3F4CRGg5A"
      }
    },
    {
      "cell_type": "code",
      "source": [
        "import shutil\n",
        "import os\n",
        "\n",
        "# Source and destination paths\n",
        "src_dir = \"/root/.cache/kagglehub/datasets/soumikrakshit/lol-dataset/versions/1\"\n",
        "dst_dir = \"/content/drive/MyDrive/Colab Notebooks/Computer Vision/Lol_Dataset/Data\"\n",
        "\n",
        "# Create destination directory if it doesn't exist\n",
        "os.makedirs(dst_dir, exist_ok=True)\n",
        "\n",
        "# Copy all files and subdirectories recursively\n",
        "shutil.copytree(src_dir, dst_dir, dirs_exist_ok=True)  # For Python 3.8+\n",
        "print(f\"Files copied from {src_dir} to {dst_dir}\")"
      ],
      "metadata": {
        "colab": {
          "base_uri": "https://localhost:8080/"
        },
        "id": "jXM_rs1X3U8m",
        "outputId": "f6acc3ea-9179-4dde-fdc6-c48144c033e0"
      },
      "execution_count": 2,
      "outputs": [
        {
          "output_type": "stream",
          "name": "stdout",
          "text": [
            "Files copied from /root/.cache/kagglehub/datasets/soumikrakshit/lol-dataset/versions/1 to /content/drive/MyDrive/Colab Notebooks/Computer Vision/Lol_Dataset/Data\n"
          ]
        }
      ]
    }
  ]
}