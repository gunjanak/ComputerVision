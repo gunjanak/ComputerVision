{
 "cells": [
  {
   "cell_type": "code",
   "execution_count": 1,
   "id": "b018dc3b",
   "metadata": {},
   "outputs": [],
   "source": [
    "import os\n",
    "import torch\n",
    "import numpy as np\n",
    "import cv2\n",
    "from facenet_pytorch import MTCNN, InceptionResnetV1\n",
    "from sklearn.preprocessing import LabelEncoder\n",
    "from sklearn.svm import SVC\n",
    "import joblib\n",
    "from IPython.display import display\n",
    "from PIL import Image\n",
    "import time"
   ]
  },
  {
   "cell_type": "code",
   "execution_count": 2,
   "id": "723ef615",
   "metadata": {},
   "outputs": [],
   "source": [
    "MODEL_PATH = \"Models/face_recognition2.pkl\""
   ]
  },
  {
   "cell_type": "code",
   "execution_count": 3,
   "id": "de0c3c5c",
   "metadata": {},
   "outputs": [],
   "source": [
    "# Load face detection and embedding models\n",
    "device = torch.device(\"cuda\" if torch.cuda.is_available() else \"cpu\")\n",
    "mtcnn = MTCNN(image_size=160, margin=20, device=device)\n",
    "resnet = InceptionResnetV1(pretrained=\"vggface2\").eval().to(device)"
   ]
  },
  {
   "cell_type": "code",
   "execution_count": 4,
   "id": "db6b740b",
   "metadata": {},
   "outputs": [],
   "source": [
    "# Load trained classifier\n",
    "data = joblib.load(MODEL_PATH)\n",
    "clf = data[\"classifier\"]\n",
    "encoder = data[\"encoder\"]"
   ]
  },
  {
   "cell_type": "code",
   "execution_count": 14,
   "id": "8aafe13e",
   "metadata": {},
   "outputs": [],
   "source": [
    "def capture_face():\n",
    "    \n",
    "    cap = cv2.VideoCapture(0)  # Open webcam\n",
    "    if not cap.isOpened():\n",
    "        print(\"Error: Could not open webcam.\")\n",
    "        return None\n",
    "\n",
    "    start_time = time.time()\n",
    "    captured_face = None\n",
    "\n",
    "    while time.time() - start_time < 10:  # Run for 10 seconds\n",
    "        \n",
    "        ret, frame = cap.read()\n",
    "        if not ret:\n",
    "            print(\"Failed to grab frame\")\n",
    "            break\n",
    "        \n",
    "        # Convert to RGB format for MTCNN\n",
    "        img_rgb = cv2.cvtColor(frame, cv2.COLOR_BGR2RGB)\n",
    "        img_pil = Image.fromarray(img_rgb)\n",
    "\n",
    "        # Detect faces\n",
    "        boxes, _ = mtcnn.detect(img_pil)\n",
    "\n",
    "        if boxes is not None:\n",
    "            for box in boxes:\n",
    "                x1, y1, x2, y2 = map(int, box)\n",
    "\n",
    "                # Crop the first detected face\n",
    "                captured_face = img_rgb[y1:y2, x1:x2]\n",
    "\n",
    "                # Show the detected face\n",
    "                display(Image.fromarray(captured_face))\n",
    "\n",
    "                cap.release()\n",
    "                cv2.destroyAllWindows()\n",
    "                return captured_face  # Return the cropped face\n",
    "\n",
    "        cv2.imshow(\"Webcam - Detecting Face\", frame)\n",
    "        if cv2.waitKey(1) & 0xFF == 27:  # Press ESC to exit\n",
    "            break\n",
    "\n",
    "    \n",
    "    cap.release()\n",
    "    cv2.destroyAllWindows()\n",
    "    print(\"No face detected within 10 seconds.\")\n",
    "    return None"
   ]
  },
  {
   "cell_type": "code",
   "execution_count": 15,
   "id": "89f8fcd7",
   "metadata": {},
   "outputs": [],
   "source": [
    "def recognize_face(face_image):\n",
    "    print(\"Hello\")\n",
    "    if face_image is None:\n",
    "        print(\"No face to recognize!\")\n",
    "        return\n",
    "    \n",
    "    # Resize face for FaceNet\n",
    "    face = cv2.resize(face_image, (160, 160))\n",
    "    print(\"Face resized\")\n",
    "    \n",
    "    # Convert to tensor\n",
    "    face = torch.tensor(face).permute(2, 0, 1).float().unsqueeze(0) / 255.0\n",
    "    face = face.to(device)\n",
    "\n",
    "    # Extract embedding\n",
    "    embedding = resnet(face).detach().cpu().numpy().flatten()\n",
    "\n",
    "    # Predict identity\n",
    "    probs = clf.predict_proba([embedding])[0]\n",
    "    max_prob = max(probs)\n",
    "    predicted_label = encoder.inverse_transform([np.argmax(probs)])[0]\n",
    "\n",
    "    # Display result\n",
    "    person_name = predicted_label if max_prob > 0.6 else \"Unknown\"\n",
    "    print(f\"Recognized Person: {person_name} ({max_prob:.2f})\")\n"
   ]
  },
  {
   "cell_type": "code",
   "execution_count": 21,
   "id": "764df631",
   "metadata": {},
   "outputs": [
    {
     "data": {
      "image/jpeg": "[encoded data removed]",
      "image/png": "[encoded data removed]",
      "text/plain": [
       "<PIL.Image.Image image mode=RGB size=36x50>"
      ]
     },
     "metadata": {},
     "output_type": "display_data"
    }
   ],
   "source": [
    "face = capture_face()  # Step 1: Capture face\n",
    "#    # Step 2: Recognize face"
   ]
  },
  {
   "cell_type": "code",
   "execution_count": 22,
   "id": "152753b0",
   "metadata": {},
   "outputs": [
    {
     "name": "stdout",
     "output_type": "stream",
     "text": [
      "Hello\n",
      "Face resized\n",
      "Recognized Person: Aisha (0.77)\n"
     ]
    }
   ],
   "source": [
    "recognize_face(face)"
   ]
  }
 ],
 "metadata": {
  "kernelspec": {
   "display_name": "venv",
   "language": "python",
   "name": "python3"
  },
  "language_info": {
   "codemirror_mode": {
    "name": "ipython",
    "version": 3
   },
   "file_extension": ".py",
   "mimetype": "text/x-python",
   "name": "python",
   "nbconvert_exporter": "python",
   "pygments_lexer": "ipython3",
   "version": "3.10.12"
  }
 },
 "nbformat": 4,
 "nbformat_minor": 5
}
